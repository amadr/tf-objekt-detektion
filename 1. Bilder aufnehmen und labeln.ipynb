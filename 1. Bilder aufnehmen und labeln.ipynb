{
 "cells": [
  {
   "cell_type": "markdown",
   "id": "71349143",
   "metadata": {},
   "source": [
    "Als erstes wird ein Ordner namens 'RealTimeObjectDetection' erstellt. Dann in das Verzeichnis wechseln und das Jupyter Notebook starten.\n",
    "Die Bilder können entweder mithilfe von Python oder selbst manuell aufgenommen werden."
   ]
  },
  {
   "cell_type": "markdown",
   "id": "ec58357b",
   "metadata": {},
   "source": [
    "---"
   ]
  },
  {
   "cell_type": "markdown",
   "id": "7bc97e99",
   "metadata": {},
   "source": [
    "# 0. Bilder aufnehmen"
   ]
  },
  {
   "cell_type": "code",
   "execution_count": null,
   "id": "4bf100f4",
   "metadata": {},
   "outputs": [],
   "source": [
    "!pip install opencv-python\n",
    "import cv2 \n",
    "import uuid\n",
    "import os\n",
    "import time"
   ]
  },
  {
   "cell_type": "code",
   "execution_count": null,
   "id": "973a0a91",
   "metadata": {},
   "outputs": [],
   "source": [
    "# Label unnd Anzahl der Bilder\n",
    "labels = ['Mask', 'NoMask']\n",
    "number_imgs = 5"
   ]
  },
  {
   "cell_type": "code",
   "execution_count": null,
   "id": "becf56d7",
   "metadata": {},
   "outputs": [],
   "source": [
    "# Ordner für die Bilder erstellen\n",
    "IMAGES_PATH = os.path.join('Tensorflow', 'workspace', 'images', 'collectedimages')\n",
    "if not os.path.exists(IMAGES_PATH):\n",
    "        !mkdir {IMAGES_PATH}\n",
    "for label in labels:\n",
    "    path = os.path.join(IMAGES_PATH, label)\n",
    "    if not os.path.exists(path):\n",
    "        !mkdir {path}"
   ]
  },
  {
   "cell_type": "code",
   "execution_count": null,
   "id": "85c030ba",
   "metadata": {},
   "outputs": [],
   "source": [
    "# Aufnehmen der Bilder\n",
    "for label in labels:\n",
    "    cap = cv2.VideoCapture(0)\n",
    "    print('Collecting images for {}'.format(label))\n",
    "    time.sleep(5)\n",
    "    for imgnum in range(number_imgs):\n",
    "        print('Collecting image {}'.format(imgnum))\n",
    "        ret, frame = cap.read()\n",
    "        imgname = os.path.join(IMAGES_PATH,label,label+'.'+'{}.jpg'.format(str(uuid.uuid1())))\n",
    "        cv2.imwrite(imgname, frame)\n",
    "        cv2.imshow('frame', frame)\n",
    "        time.sleep(2)\n",
    "\n",
    "        if cv2.waitKey(1) & 0xFF == ord('q'):\n",
    "            cap.release()\n",
    "            cv2.destroyAllWindows()\n",
    "            break"
   ]
  },
  {
   "cell_type": "markdown",
   "id": "9924a87c",
   "metadata": {},
   "source": [
    "---"
   ]
  },
  {
   "cell_type": "markdown",
   "id": "3b01e9cd",
   "metadata": {},
   "source": [
    "# 1. Bilder labeln"
   ]
  },
  {
   "cell_type": "code",
   "execution_count": null,
   "id": "a62feb14",
   "metadata": {},
   "outputs": [],
   "source": [
    "import os"
   ]
  },
  {
   "cell_type": "code",
   "execution_count": null,
   "id": "93b6f5af",
   "metadata": {},
   "outputs": [],
   "source": [
    "# Benötigte Dependencies installieren\n",
    "!pip install --upgrade pyqt5 lxml"
   ]
  },
  {
   "cell_type": "code",
   "execution_count": null,
   "id": "9b71cae9",
   "metadata": {},
   "outputs": [],
   "source": [
    "# Klonen der labelImg Repository\n",
    "LABELIMG_PATH = os.path.join('Tensorflow', 'labelimg')\n",
    "if not os.path.exists(LABELIMG_PATH):\n",
    "    !mkdir {LABELIMG_PATH}\n",
    "    !git clone https://github.com/tzutalin/labelImg {LABELIMG_PATH}"
   ]
  },
  {
   "cell_type": "code",
   "execution_count": null,
   "id": "a9442a80",
   "metadata": {},
   "outputs": [],
   "source": [
    "# Wecheln ins Verzeichnis und erstellen von Binary\n",
    "!cd {LABELIMG_PATH} && pyrcc5 -o libs/resources.py resources.qrc"
   ]
  },
  {
   "cell_type": "markdown",
   "id": "b54f50fc",
   "metadata": {},
   "source": [
    "Nun können die Bilder annotiert werden. Dazu muss man den Ordner der die Bilder enthält auswählen und den Zielordner auswählen wo die Labels gespeichert werden sollen. Das Format für die Labels, welches wir benutzen ist das PascalVOC Format."
   ]
  },
  {
   "cell_type": "code",
   "execution_count": null,
   "id": "a00ea465",
   "metadata": {},
   "outputs": [],
   "source": [
    "# Wecheln ins Verzeichnis und Starten des Label Programms\n",
    "!cd {LABELIMG_PATH} && python labelImg.py"
   ]
  },
  {
   "cell_type": "markdown",
   "id": "23f93dea",
   "metadata": {},
   "source": [
    "# 2. Aufteilen der Bilder in Train und Test Ordnern\n",
    "Die Bilder und deren Label werden nun in Train und Test Ordnern manuell aufgeteilt (z.B. 70% Train, 30% Test)"
   ]
  },
  {
   "cell_type": "code",
   "execution_count": null,
   "id": "79998bda",
   "metadata": {},
   "outputs": [],
   "source": [
    "TRAIN_PATH = os.path.join('Tensorflow', 'workspace', 'images', 'train')\n",
    "TEST_PATH = os.path.join('Tensorflow', 'workspace', 'images', 'test')\n",
    "!mkdir {TRAIN_PATH}\n",
    "!mkdir {TEST_PATH}"
   ]
  },
  {
   "cell_type": "markdown",
   "id": "561a01c3",
   "metadata": {},
   "source": [
    "Um die Bilder für das Trainiern in Google Colab zu nutzen, müssen diese und deren Label gezippt werden. Und können dann in Google Drive hochgeladen und von dort aus ins Google Colab importiert werden."
   ]
  }
 ],
 "metadata": {
  "kernelspec": {
   "display_name": "Python 3 (ipykernel)",
   "language": "python",
   "name": "python3"
  },
  "language_info": {
   "codemirror_mode": {
    "name": "ipython",
    "version": 3
   },
   "file_extension": ".py",
   "mimetype": "text/x-python",
   "name": "python",
   "nbconvert_exporter": "python",
   "pygments_lexer": "ipython3",
   "version": "3.9.7"
  }
 },
 "nbformat": 4,
 "nbformat_minor": 5
}
